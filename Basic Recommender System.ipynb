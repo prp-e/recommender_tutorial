{
 "cells": [
  {
   "cell_type": "markdown",
   "id": "laden-budapest",
   "metadata": {},
   "source": [
    "# Basic Recommender System\n",
    "\n",
    "## Libraries \n",
    "\n",
    "1. Pandas \n",
    "2. Sci-Kit Learn"
   ]
  },
  {
   "cell_type": "code",
   "execution_count": 24,
   "id": "pleased-jordan",
   "metadata": {},
   "outputs": [],
   "source": [
    "import pandas as pd\n",
    "from sklearn.metrics.pairwise import cosine_similarity\n",
    "from sklearn.feature_extraction.text import CountVectorizer\n",
    "import numpy as np"
   ]
  },
  {
   "cell_type": "code",
   "execution_count": 2,
   "id": "serious-candy",
   "metadata": {},
   "outputs": [
    {
     "name": "stdout",
     "output_type": "stream",
     "text": [
      "Basic Recommender System.ipynb\r\n",
      "books.csv\r\n",
      "movies.csv\r\n"
     ]
    }
   ],
   "source": [
    "!ls -1"
   ]
  },
  {
   "cell_type": "code",
   "execution_count": 3,
   "id": "imperial-camera",
   "metadata": {},
   "outputs": [],
   "source": [
    "df = pd.read_csv('movies.csv')"
   ]
  },
  {
   "cell_type": "code",
   "execution_count": 4,
   "id": "announced-breakdown",
   "metadata": {},
   "outputs": [
    {
     "data": {
      "text/plain": [
       "(9742, 3)"
      ]
     },
     "execution_count": 4,
     "metadata": {},
     "output_type": "execute_result"
    }
   ],
   "source": [
    "df.shape"
   ]
  },
  {
   "cell_type": "code",
   "execution_count": 5,
   "id": "stretch-privacy",
   "metadata": {},
   "outputs": [
    {
     "data": {
      "text/html": [
       "<div>\n",
       "<style scoped>\n",
       "    .dataframe tbody tr th:only-of-type {\n",
       "        vertical-align: middle;\n",
       "    }\n",
       "\n",
       "    .dataframe tbody tr th {\n",
       "        vertical-align: top;\n",
       "    }\n",
       "\n",
       "    .dataframe thead th {\n",
       "        text-align: right;\n",
       "    }\n",
       "</style>\n",
       "<table border=\"1\" class=\"dataframe\">\n",
       "  <thead>\n",
       "    <tr style=\"text-align: right;\">\n",
       "      <th></th>\n",
       "      <th>movieId</th>\n",
       "      <th>title</th>\n",
       "      <th>genres</th>\n",
       "    </tr>\n",
       "  </thead>\n",
       "  <tbody>\n",
       "    <tr>\n",
       "      <th>0</th>\n",
       "      <td>1</td>\n",
       "      <td>Toy Story (1995)</td>\n",
       "      <td>Adventure|Animation|Children|Comedy|Fantasy</td>\n",
       "    </tr>\n",
       "    <tr>\n",
       "      <th>1</th>\n",
       "      <td>2</td>\n",
       "      <td>Jumanji (1995)</td>\n",
       "      <td>Adventure|Children|Fantasy</td>\n",
       "    </tr>\n",
       "    <tr>\n",
       "      <th>2</th>\n",
       "      <td>3</td>\n",
       "      <td>Grumpier Old Men (1995)</td>\n",
       "      <td>Comedy|Romance</td>\n",
       "    </tr>\n",
       "    <tr>\n",
       "      <th>3</th>\n",
       "      <td>4</td>\n",
       "      <td>Waiting to Exhale (1995)</td>\n",
       "      <td>Comedy|Drama|Romance</td>\n",
       "    </tr>\n",
       "    <tr>\n",
       "      <th>4</th>\n",
       "      <td>5</td>\n",
       "      <td>Father of the Bride Part II (1995)</td>\n",
       "      <td>Comedy</td>\n",
       "    </tr>\n",
       "  </tbody>\n",
       "</table>\n",
       "</div>"
      ],
      "text/plain": [
       "   movieId                               title  \\\n",
       "0        1                    Toy Story (1995)   \n",
       "1        2                      Jumanji (1995)   \n",
       "2        3             Grumpier Old Men (1995)   \n",
       "3        4            Waiting to Exhale (1995)   \n",
       "4        5  Father of the Bride Part II (1995)   \n",
       "\n",
       "                                        genres  \n",
       "0  Adventure|Animation|Children|Comedy|Fantasy  \n",
       "1                   Adventure|Children|Fantasy  \n",
       "2                               Comedy|Romance  \n",
       "3                         Comedy|Drama|Romance  \n",
       "4                                       Comedy  "
      ]
     },
     "execution_count": 5,
     "metadata": {},
     "output_type": "execute_result"
    }
   ],
   "source": [
    "df.head()"
   ]
  },
  {
   "cell_type": "code",
   "execution_count": 14,
   "id": "changed-phase",
   "metadata": {},
   "outputs": [
    {
     "data": {
      "text/plain": [
       "'Spider-Man (2002)'"
      ]
     },
     "execution_count": 14,
     "metadata": {},
     "output_type": "execute_result"
    }
   ],
   "source": [
    "df.loc[df['movieId'] == 5349, 'title'].iloc(0)[0]"
   ]
  },
  {
   "cell_type": "code",
   "execution_count": 16,
   "id": "overall-proceeding",
   "metadata": {},
   "outputs": [],
   "source": [
    "important_features = []\n",
    "\n",
    "for i in range(0, df.shape[0]):\n",
    "    important_features.append(str(df['movieId'][i]) + ' ' + df['title'][i] + ' ' + df['genres'][i])"
   ]
  },
  {
   "cell_type": "code",
   "execution_count": 18,
   "id": "sudden-curve",
   "metadata": {},
   "outputs": [
    {
     "data": {
      "text/plain": [
       "['1 Toy Story (1995) Adventure|Animation|Children|Comedy|Fantasy',\n",
       " '2 Jumanji (1995) Adventure|Children|Fantasy',\n",
       " '3 Grumpier Old Men (1995) Comedy|Romance',\n",
       " '4 Waiting to Exhale (1995) Comedy|Drama|Romance',\n",
       " '5 Father of the Bride Part II (1995) Comedy']"
      ]
     },
     "execution_count": 18,
     "metadata": {},
     "output_type": "execute_result"
    }
   ],
   "source": [
    "important_features[:5]"
   ]
  },
  {
   "cell_type": "code",
   "execution_count": 19,
   "id": "quarterly-situation",
   "metadata": {},
   "outputs": [],
   "source": [
    "df['important_features'] = important_features"
   ]
  },
  {
   "cell_type": "code",
   "execution_count": 21,
   "id": "lasting-child",
   "metadata": {},
   "outputs": [
    {
     "data": {
      "text/html": [
       "<div>\n",
       "<style scoped>\n",
       "    .dataframe tbody tr th:only-of-type {\n",
       "        vertical-align: middle;\n",
       "    }\n",
       "\n",
       "    .dataframe tbody tr th {\n",
       "        vertical-align: top;\n",
       "    }\n",
       "\n",
       "    .dataframe thead th {\n",
       "        text-align: right;\n",
       "    }\n",
       "</style>\n",
       "<table border=\"1\" class=\"dataframe\">\n",
       "  <thead>\n",
       "    <tr style=\"text-align: right;\">\n",
       "      <th></th>\n",
       "      <th>movieId</th>\n",
       "      <th>title</th>\n",
       "      <th>genres</th>\n",
       "      <th>important_features</th>\n",
       "    </tr>\n",
       "  </thead>\n",
       "  <tbody>\n",
       "    <tr>\n",
       "      <th>0</th>\n",
       "      <td>1</td>\n",
       "      <td>Toy Story (1995)</td>\n",
       "      <td>Adventure|Animation|Children|Comedy|Fantasy</td>\n",
       "      <td>1 Toy Story (1995) Adventure|Animation|Childre...</td>\n",
       "    </tr>\n",
       "    <tr>\n",
       "      <th>1</th>\n",
       "      <td>2</td>\n",
       "      <td>Jumanji (1995)</td>\n",
       "      <td>Adventure|Children|Fantasy</td>\n",
       "      <td>2 Jumanji (1995) Adventure|Children|Fantasy</td>\n",
       "    </tr>\n",
       "    <tr>\n",
       "      <th>2</th>\n",
       "      <td>3</td>\n",
       "      <td>Grumpier Old Men (1995)</td>\n",
       "      <td>Comedy|Romance</td>\n",
       "      <td>3 Grumpier Old Men (1995) Comedy|Romance</td>\n",
       "    </tr>\n",
       "    <tr>\n",
       "      <th>3</th>\n",
       "      <td>4</td>\n",
       "      <td>Waiting to Exhale (1995)</td>\n",
       "      <td>Comedy|Drama|Romance</td>\n",
       "      <td>4 Waiting to Exhale (1995) Comedy|Drama|Romance</td>\n",
       "    </tr>\n",
       "    <tr>\n",
       "      <th>4</th>\n",
       "      <td>5</td>\n",
       "      <td>Father of the Bride Part II (1995)</td>\n",
       "      <td>Comedy</td>\n",
       "      <td>5 Father of the Bride Part II (1995) Comedy</td>\n",
       "    </tr>\n",
       "  </tbody>\n",
       "</table>\n",
       "</div>"
      ],
      "text/plain": [
       "   movieId                               title  \\\n",
       "0        1                    Toy Story (1995)   \n",
       "1        2                      Jumanji (1995)   \n",
       "2        3             Grumpier Old Men (1995)   \n",
       "3        4            Waiting to Exhale (1995)   \n",
       "4        5  Father of the Bride Part II (1995)   \n",
       "\n",
       "                                        genres  \\\n",
       "0  Adventure|Animation|Children|Comedy|Fantasy   \n",
       "1                   Adventure|Children|Fantasy   \n",
       "2                               Comedy|Romance   \n",
       "3                         Comedy|Drama|Romance   \n",
       "4                                       Comedy   \n",
       "\n",
       "                                  important_features  \n",
       "0  1 Toy Story (1995) Adventure|Animation|Childre...  \n",
       "1        2 Jumanji (1995) Adventure|Children|Fantasy  \n",
       "2           3 Grumpier Old Men (1995) Comedy|Romance  \n",
       "3    4 Waiting to Exhale (1995) Comedy|Drama|Romance  \n",
       "4        5 Father of the Bride Part II (1995) Comedy  "
      ]
     },
     "execution_count": 21,
     "metadata": {},
     "output_type": "execute_result"
    }
   ],
   "source": [
    "df.head()"
   ]
  },
  {
   "cell_type": "code",
   "execution_count": 22,
   "id": "representative-bangkok",
   "metadata": {},
   "outputs": [],
   "source": [
    "vectorized_data = CountVectorizer().fit_transform(df['important_features'])"
   ]
  },
  {
   "cell_type": "code",
   "execution_count": 27,
   "id": "corrected-restoration",
   "metadata": {},
   "outputs": [],
   "source": [
    "recommender_core = cosine_similarity(vectorized_data)"
   ]
  },
  {
   "cell_type": "code",
   "execution_count": 28,
   "id": "protected-school",
   "metadata": {},
   "outputs": [
    {
     "data": {
      "text/plain": [
       "array([[1.        , 0.63245553, 0.28867513, ..., 0.        , 0.11785113,\n",
       "        0.1118034 ],\n",
       "       [0.63245553, 1.        , 0.18257419, ..., 0.        , 0.        ,\n",
       "        0.        ],\n",
       "       [0.28867513, 0.18257419, 1.        , ..., 0.        , 0.        ,\n",
       "        0.12909944],\n",
       "       ...,\n",
       "       [0.        , 0.        , 0.        , ..., 1.        , 0.        ,\n",
       "        0.        ],\n",
       "       [0.11785113, 0.        , 0.        , ..., 0.        , 1.        ,\n",
       "        0.        ],\n",
       "       [0.1118034 , 0.        , 0.12909944, ..., 0.        , 0.        ,\n",
       "        1.        ]])"
      ]
     },
     "execution_count": 28,
     "metadata": {},
     "output_type": "execute_result"
    }
   ],
   "source": [
    "recommender_core"
   ]
  },
  {
   "cell_type": "code",
   "execution_count": 40,
   "id": "fixed-romania",
   "metadata": {},
   "outputs": [
    {
     "data": {
      "text/plain": [
       "4784"
      ]
     },
     "execution_count": 40,
     "metadata": {},
     "output_type": "execute_result"
    }
   ],
   "source": [
    "df['movieId'][3500]"
   ]
  },
  {
   "cell_type": "code",
   "execution_count": 41,
   "id": "silver-melbourne",
   "metadata": {},
   "outputs": [
    {
     "data": {
      "text/plain": [
       "3500    French Lieutenant's Woman, The (1981)\n",
       "Name: title, dtype: object"
      ]
     },
     "execution_count": 41,
     "metadata": {},
     "output_type": "execute_result"
    }
   ],
   "source": [
    "df.loc[df['movieId'] == 4784, 'title']"
   ]
  },
  {
   "cell_type": "code",
   "execution_count": 93,
   "id": "together-desert",
   "metadata": {},
   "outputs": [
    {
     "data": {
      "text/plain": [
       "[(6470, 0.7378647873726218),\n",
       " (3768, 0.7071067811865475),\n",
       " (5260, 0.6666666666666667),\n",
       " (7324, 0.6324555320336759),\n",
       " (4118, 0.6299407883487119),\n",
       " (7927, 0.6030226891555273),\n",
       " (385, 0.5892556509887895),\n",
       " (1194, 0.5892556509887895),\n",
       " (2712, 0.5892556509887895)]"
      ]
     },
     "execution_count": 93,
     "metadata": {},
     "output_type": "execute_result"
    }
   ],
   "source": [
    "sorted_list = sorted(list(enumerate(recommender_core[3819])), key= lambda x:x[1], reverse=True)\n",
    "sorted_list[1:10]"
   ]
  },
  {
   "cell_type": "code",
   "execution_count": 86,
   "id": "cosmetic-distance",
   "metadata": {},
   "outputs": [],
   "source": [
    "def find_movie_info(index):\n",
    "    movie_id = df['movieId'][index]\n",
    "    movie_title = df.loc[df['movieId'] == movie_id, 'title'].iloc(0)[0]\n",
    "    movie_genres = df.loc[df['movieId'] == movie_id, 'genres'].iloc(0)[0]\n",
    "    movie_genres = movie_genres.split('|')\n",
    "    \n",
    "    return [movie_id, movie_title, movie_genres]"
   ]
  },
  {
   "cell_type": "code",
   "execution_count": 87,
   "id": "serious-prisoner",
   "metadata": {},
   "outputs": [
    {
     "data": {
      "text/plain": [
       "[8636, 'Spider-Man 2 (2004)', ['Action', 'Adventure', 'Sci-Fi', 'IMAX']]"
      ]
     },
     "execution_count": 87,
     "metadata": {},
     "output_type": "execute_result"
    }
   ],
   "source": [
    "find_movie_info(5260)"
   ]
  },
  {
   "cell_type": "code",
   "execution_count": 97,
   "id": "incorporate-yukon",
   "metadata": {},
   "outputs": [],
   "source": [
    "def suggest_movie(index):\n",
    "    sorted_list = sorted(list(enumerate(recommender_core[index])), key= lambda x:x[1], reverse=True)\n",
    "    sorted_list = sorted_list[1:10]\n",
    "    \n",
    "    similar_movies = []\n",
    "    for movie in sorted_list:\n",
    "        try:\n",
    "            movie = find_movie_info(movie[0])\n",
    "            similar_movies.append(movie)\n",
    "        except:\n",
    "            pass\n",
    "        \n",
    "    return similar_movies"
   ]
  },
  {
   "cell_type": "code",
   "execution_count": 98,
   "id": "neutral-correlation",
   "metadata": {},
   "outputs": [
    {
     "data": {
      "text/plain": [
       "[[52722,\n",
       "  'Spider-Man 3 (2007)',\n",
       "  ['Action', 'Adventure', 'Sci-Fi', 'Thriller', 'IMAX']],\n",
       " [5264, 'Clockstoppers (2002)', ['Action', 'Adventure', 'Sci-Fi', 'Thriller']],\n",
       " [8636, 'Spider-Man 2 (2004)', ['Action', 'Adventure', 'Sci-Fi', 'IMAX']],\n",
       " [77561,\n",
       "  'Iron Man 2 (2010)',\n",
       "  ['Action', 'Adventure', 'Sci-Fi', 'Thriller', 'IMAX']],\n",
       " [5903, 'Equilibrium (2002)', ['Action', 'Sci-Fi', 'Thriller']],\n",
       " [95510,\n",
       "  'Amazing Spider-Man, The (2012)',\n",
       "  ['Action', 'Adventure', 'Sci-Fi', 'IMAX']],\n",
       " [442, 'Demolition Man (1993)', ['Action', 'Adventure', 'Sci-Fi']],\n",
       " [1591, 'Spawn (1997)', ['Action', 'Adventure', 'Sci-Fi', 'Thriller']],\n",
       " [3638, 'Moonraker (1979)', ['Action', 'Adventure', 'Sci-Fi', 'Thriller']]]"
      ]
     },
     "execution_count": 98,
     "metadata": {},
     "output_type": "execute_result"
    }
   ],
   "source": [
    "suggest_movie(3819)"
   ]
  }
 ],
 "metadata": {
  "kernelspec": {
   "display_name": "Python 3",
   "language": "python",
   "name": "python3"
  },
  "language_info": {
   "codemirror_mode": {
    "name": "ipython",
    "version": 3
   },
   "file_extension": ".py",
   "mimetype": "text/x-python",
   "name": "python",
   "nbconvert_exporter": "python",
   "pygments_lexer": "ipython3",
   "version": "3.8.6"
  }
 },
 "nbformat": 4,
 "nbformat_minor": 5
}
